{
  "nbformat": 4,
  "nbformat_minor": 0,
  "metadata": {
    "colab": {
      "provenance": []
    },
    "kernelspec": {
      "name": "python3",
      "display_name": "Python 3"
    },
    "language_info": {
      "name": "python"
    }
  },
  "cells": [
    {
      "cell_type": "code",
      "execution_count": null,
      "metadata": {
        "colab": {
          "base_uri": "https://localhost:8080/"
        },
        "id": "lKIXzUVByTgv",
        "outputId": "f72c5733-4f00-4f34-df68-ad7251fbbdee"
      },
      "outputs": [
        {
          "output_type": "stream",
          "name": "stdout",
          "text": [
            "Root of f(x) = e^x + ln(x) on [0.1, 1] is 0.2698741376\n",
            "Root of f(x) = arctan(x) - x^2 on [0, 1] is 0.8336061945\n",
            "Root of f(x) = sin(x) on [3, 4] is 3.1415926536\n",
            "Root cannot be found for f(x) = ln(cos(x)) on [5, 7] using the bisection method.\n"
          ]
        }
      ],
      "source": [
        "import numpy as np\n",
        "\n",
        "def roots(f, a, b):\n",
        "    if f(a) * f(b) > 0:\n",
        "        return None\n",
        "    while True:\n",
        "        c = (a + b) / 2\n",
        "        if abs(f(c)) < 1e-10:\n",
        "            return round(c, 10)\n",
        "        if f(a) * f(c) < 0:\n",
        "            b = c\n",
        "        else:\n",
        "            a = c\n",
        "\n",
        "def function_1(x):\n",
        "    return np.exp(x) + np.log(x)\n",
        "\n",
        "def function_2(x):\n",
        "    return np.arctan(x) - x**2\n",
        "\n",
        "def function_3(x):\n",
        "    return np.sin(x)\n",
        "\n",
        "def function_4(x):\n",
        "    return np.log(np.cos(x))\n",
        "\n",
        "function_1_result = roots(function_1, 0.1, 1)\n",
        "if function_1_result is not None:\n",
        "    print(\"Root of f(x) = e^x + ln(x) on [0.1, 1] is \" + str(function_1_result))\n",
        "else:\n",
        "    print(\"Root doesn't exist for f(x) = e^x + ln(x) on [0.1, 1].\")\n",
        "\n",
        "function_2_result = roots(function_2, 0, 1)\n",
        "if function_2_result is not None:\n",
        "    print(\"Root of f(x) = arctan(x) - x^2 on [0, 1] is \" + str(function_2_result))\n",
        "else:\n",
        "    print(\"Root cannot be found for f(x) = arctan(x) - x^2 on [0, 1] using the bisection method.\")\n",
        "\n",
        "function_3_result = roots(function_3, 3, 4)\n",
        "if function_3_result is not None:\n",
        "    print(\"Root of f(x) = sin(x) on [3, 4] is \" + str(function_3_result))\n",
        "else:\n",
        "    print(\"Root doesn't exist for f(x) = sin(x) on [3, 4].\")\n",
        "\n",
        "function_4_result = roots(function_4, 5, 7)\n",
        "if function_4_result is not None:\n",
        "    print(\"Root of f(x) = ln(cos(x)) on [5, 7] is \" + str(function_4_result))\n",
        "else:\n",
        "    print(\"Root cannot be found for f(x) = ln(cos(x)) on [5, 7] using the bisection method.\")\n"
      ]
    }
  ]
}