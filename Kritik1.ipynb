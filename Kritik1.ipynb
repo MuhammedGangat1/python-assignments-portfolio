{
  "nbformat": 4,
  "nbformat_minor": 0,
  "metadata": {
    "colab": {
      "provenance": []
    },
    "kernelspec": {
      "name": "python3",
      "display_name": "Python 3"
    },
    "language_info": {
      "name": "python"
    }
  },
  "cells": [
    {
      "cell_type": "code",
      "execution_count": null,
      "metadata": {
        "colab": {
          "base_uri": "https://localhost:8080/"
        },
        "id": "jRZ_KDFn1Io0",
        "outputId": "225f68a7-57b4-4753-b762-2b3a5eb2e8c7"
      },
      "outputs": [
        {
          "output_type": "stream",
          "name": "stdout",
          "text": [
            "arctan_approximation(-1) = Error!\n",
            "arctan_approximation(0) = (0.0, 1, 0.0)\n",
            "arctan_approximation(0.25) = (0.24498697916666665, 3, 8.719308035714285e-06)\n",
            "arctan_approximation(0.5) = (0.46368427579365074, 5, 4.438920454545455e-05)\n",
            "arctan_approximation(0.75) = (0.6435394700943785, 11, 5.816761029294689e-05)\n",
            "arctan_approximation(1) = (0.7853481633979478, 5000, 9.999000099990002e-05)\n"
          ]
        }
      ],
      "source": [
        "def arctan_approximation(x): #defining arctan_approximation function\n",
        "    if x < 0 or x > 1: #checking if {xeR| [0,1]}\n",
        "        return \"Error!\"\n",
        "\n",
        "    approx = 0.0 #setting starting points of polynomial (n) and approximation as 0\n",
        "    n = 0\n",
        "    error = 1*10**10 #since this is a while loop, the maximum error has been chosen to be a really big number (like infinity)\n",
        "\n",
        "    while error > 0.0001: #funciton will continue going through all x values [0,1] as long as error is less than 0.0001\n",
        "        term = ((-1) ** n * x ** (2 * n + 1)) / (2 * n + 1) #function calculating the arctan approximation\n",
        "        approx = approx + term  # Updating approximation after testing each term\n",
        "        error = (x ** (2 * n + 3)) / (2 * n + 3) #error bound calculation\n",
        "        n = n + 1 #incrementing by +1\n",
        "\n",
        "    return approx, n, error #outputs tuple\n",
        "\n",
        "\n",
        "test_values = [-1, 0, 0.25, 0.5, 0.75, 1]\n",
        "for i in test_values: #going through each value of array\n",
        "    answer = arctan_approximation(i)\n",
        "    print(\"arctan_approximation(\" + str(i) + \") = \" + str(answer))"
      ]
    }
  ]
}