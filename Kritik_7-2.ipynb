{
  "nbformat": 4,
  "nbformat_minor": 0,
  "metadata": {
    "colab": {
      "provenance": []
    },
    "kernelspec": {
      "name": "python3",
      "display_name": "Python 3"
    },
    "language_info": {
      "name": "python"
    }
  },
  "cells": [
    {
      "cell_type": "code",
      "execution_count": null,
      "metadata": {
        "colab": {
          "base_uri": "https://localhost:8080/"
        },
        "id": "IE5IuOdOe4BN",
        "outputId": "795f3659-b2da-4ecd-c6c5-564ba50e6717"
      },
      "outputs": [
        {
          "output_type": "stream",
          "name": "stdout",
          "text": [
            "Sample Mean: 82.38\n",
            "Sample Standard Deviation: 10.19\n",
            "Calculated t-value (t0): 2.2901\n",
            "Critical t-value (t*): 2.2522\n",
            "Null Hypothesis Accepted: False\n",
            "Therefore, there is enough statsitical evidence to prove the null hypothesis to be incorrect, thus showing that the new teaching techniques have a positive impact on scores.\n"
          ]
        }
      ],
      "source": [
        "import numpy as np\n",
        "from scipy.special import gamma\n",
        "\n",
        "def mean_stddev(data):\n",
        "    \"\"\"\n",
        "    Compute the mean and standard deviation of a dataset.\n",
        "    \"\"\"\n",
        "    n = len(data)\n",
        "    mean = sum(data) / n\n",
        "    variance = sum((x - mean) ** 2 for x in data) / (n - 1)\n",
        "    stddev = variance ** 0.5\n",
        "    return mean, stddev\n",
        "\n",
        "def t_value(sample_mean, population_mean, sample_stddev, n):\n",
        "    \"\"\"\n",
        "    Compute the t-value for the sample data.\n",
        "    \"\"\"\n",
        "    return (sample_mean - population_mean) / (sample_stddev / (n ** 0.5))\n",
        "\n",
        "def t_distribution_pdf(x, nu):\n",
        "    \"\"\"\n",
        "    Compute the probability density function of the t-distribution.\n",
        "    \"\"\"\n",
        "    coeff = gamma((nu + 1) / 2) / (np.sqrt(nu * np.pi) * gamma(nu / 2))\n",
        "    density = coeff * (1 + x**2 / nu) ** (-0.5 * (nu + 1))\n",
        "    return density\n",
        "\n",
        "def find_t_star(prob, nu, x_start=0, x_end=20, num_points=10000):\n",
        "    \"\"\"\n",
        "    Find the critical t-value t* for a given cumulative probability.\n",
        "    \"\"\"\n",
        "    x = np.linspace(x_start, x_end, num_points)\n",
        "    y = t_distribution_pdf(x, nu)\n",
        "    cdf = np.cumsum(y) * (x[1] - x[0])\n",
        "    target_half_prob = prob / 2\n",
        "    index = np.where(cdf >= target_half_prob)[0][0]\n",
        "    return x[index]\n",
        "\n",
        "def hypothesis_test(t0, t_star):\n",
        "    \"\"\"\n",
        "    Determine if t0 falls within the acceptance range [-t*, t*].\n",
        "    \"\"\"\n",
        "    return abs(t0) <= t_star\n",
        "\n",
        "# Given data\n",
        "sample_data = [92.64, 79.00, 84.79, 97.41, 93.68, 65.23, 84.50, 73.49, 73.97, 79.11]\n",
        "national_average = 75\n",
        "\n",
        "test_mean, test_stddev = mean_stddev(sample_data)\n",
        "n = len(sample_data)\n",
        "t0 = t_value(test_mean, national_average, test_stddev, n)\n",
        "\n",
        "t_star = find_t_star(0.95, n - 1)\n",
        "\n",
        "# Perform hypothesis test\n",
        "result = hypothesis_test(t0, t_star)\n",
        "\n",
        "# Print results\n",
        "print(f\"Sample Mean: {test_mean:.2f}\")\n",
        "print(f\"Sample Standard Deviation: {test_stddev:.2f}\")\n",
        "print(f\"Calculated t-value (t0): {t0:.4f}\")\n",
        "print(f\"Critical t-value (t*): {t_star:.4f}\")\n",
        "print(f\"Null Hypothesis Accepted: {result}\")\n",
        "print(\"Therefore, there is enough statsitical evidence to prove the null hypothesis to be incorrect, thus showing that the new teaching techniques have a positive impact on scores.\")"
      ]
    }
  ]
}